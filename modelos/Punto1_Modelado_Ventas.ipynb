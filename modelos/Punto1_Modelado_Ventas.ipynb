{
 "cells": [
  {
   "cell_type": "markdown",
   "metadata": {},
   "source": [
    "# Punto 1 – Modelado Predictivo de Ventas (Retail)\n",
    "\n",
    "**Objetivo:**\n",
    "- Construir 3 modelos *baseline* (Regresión Lineal, Random Forest, Gradient Boosting) con validación cruzada (k=5) y métricas **R²** y **MAPE**.\n",
    "- Seleccionar el mejor y luego **optimizar Gradient Boosting** (XGBoost si está disponible; si no, `GradientBoostingRegressor`).\n",
    "\n",
    "**Entradas esperadas:**\n",
    "- `/mnt/data/Punto1.tiendas_100.csv` (train con `ventas_m24`).\n",
    "- `/mnt/data/Punto1.tiendas_10_no_target.csv` (10 nuevas tiendas sin target).\n",
    "\n",
    "**Salidas:**\n",
    "- Tabla comparativa de resultados baseline (CV=5).\n",
    "- Mejor modelo tras *random search* y su tabla de **importancia de variables**.\n",
    "- **Predicciones** para las 10 tiendas nuevas (archivo CSV listo para el Google Sheet del parcial).\n"
   ]
  },
  {
   "cell_type": "code",
   "execution_count": 3,
   "metadata": {},
   "outputs": [
    {
     "name": "stdout",
     "output_type": "stream",
     "text": [
      "XGBoost disponible? False\n",
      "Archivos presentes en /mnt/data: No existe /mnt/data\n"
     ]
    }
   ],
   "source": [
    "import os, warnings\n",
    "warnings.filterwarnings('ignore')\n",
    "import numpy as np, pandas as pd\n",
    "from sklearn.model_selection import KFold, cross_validate, RandomizedSearchCV\n",
    "from sklearn.compose import ColumnTransformer\n",
    "from sklearn.pipeline import Pipeline\n",
    "from sklearn.preprocessing import OneHotEncoder, StandardScaler\n",
    "from sklearn.impute import SimpleImputer\n",
    "from sklearn.metrics import make_scorer\n",
    "from sklearn.linear_model import LinearRegression\n",
    "from sklearn.compose import TransformedTargetRegressor\n",
    "from sklearn.ensemble import RandomForestRegressor, GradientBoostingRegressor\n",
    "\n",
    "# Intentar XGBoost; si no existe, se usará GradientBoostingRegressor\n",
    "try:\n",
    "    from xgboost import XGBRegressor\n",
    "    HAS_XGB = True\n",
    "except Exception:\n",
    "    HAS_XGB = False\n",
    "\n",
    "DATA_TRAIN = '../data/clean/Punto1.tiendas_100_clean.csv'\n",
    "DATA_NEW   = '../data/clean/Punto1.tiendas_10_no_target_clean.csv'\n",
    "TARGET = 'ventas_m24'\n",
    "\n",
    "print('XGBoost disponible?', HAS_XGB)\n",
    "print('Archivos presentes en /mnt/data:', os.listdir('/mnt/data') if os.path.exists('/mnt/data') else 'No existe /mnt/data')"
   ]
  },
  {
   "cell_type": "markdown",
   "metadata": {},
   "source": [
    "## 1) Carga de datos y definición de *features*\n",
    "Detectamos automáticamente columnas numéricas y categóricas (por tipo)."
   ]
  },
  {
   "cell_type": "code",
   "execution_count": 4,
   "metadata": {},
   "outputs": [
    {
     "name": "stdout",
     "output_type": "stream",
     "text": [
      "Shape train: (100, 27)\n",
      "Shape nuevas tiendas: (10, 25)\n",
      "Numéricas: ['lat', 'lon', 'pop_100m', 'pop_300m', 'pop_500m', 'commerces', 'gas_stations', 'malls', 'foot_traffic', 'car_traffic', 'socio_level', 'viviendas_100m', 'oficinas_100m', 'viviendas_pobreza', 'competencia', 'tiendas_peq', 'pop_total', 'pop_comp_100m', 'pop_comp_300m', 'pop_comp_500m', 'pop_comp_total', 'oficinas_comp', 'viviendas_comp', 'is_outlier']\n",
      "Categóricas: ['Tienda', 'store_cat']\n"
     ]
    }
   ],
   "source": [
    "assert os.path.exists(DATA_TRAIN), 'No se encontró el archivo de entrenamiento: ' + DATA_TRAIN\n",
    "assert os.path.exists(DATA_NEW),   'No se encontró el archivo de nuevas tiendas: ' + DATA_NEW\n",
    "\n",
    "df_train = pd.read_csv(DATA_TRAIN)\n",
    "df_new   = pd.read_csv(DATA_NEW)\n",
    "\n",
    "assert TARGET in df_train.columns, f'La columna target {TARGET} no está en el train'\n",
    "\n",
    "cat_cols = [c for c in df_train.columns if df_train[c].dtype == 'object' and c != TARGET]\n",
    "num_cols = [c for c in df_train.columns if c not in cat_cols + [TARGET]]\n",
    "\n",
    "print('Shape train:', df_train.shape)\n",
    "print('Shape nuevas tiendas:', df_new.shape)\n",
    "print('Numéricas:', num_cols)\n",
    "print('Categóricas:', cat_cols)\n",
    "\n",
    "X = df_train.drop(columns=[TARGET])\n",
    "y = df_train[TARGET].values"
   ]
  },
  {
   "cell_type": "markdown",
   "metadata": {},
   "source": [
    "## 2) Métricas y *preprocessing*\n",
    "- **MAPE** como métrica principal (evitando división por cero).\n",
    "- Dos *preprocessors*: uno con *scaling* para modelo lineal; otro sin *scaling* para árboles."
   ]
  },
  {
   "cell_type": "code",
   "execution_count": 5,
   "metadata": {},
   "outputs": [],
   "source": [
    "def mape(y_true, y_pred):\n",
    "    y_true = np.array(y_true, dtype=float)\n",
    "    y_pred = np.array(y_pred, dtype=float)\n",
    "    eps = 1e-8\n",
    "    denom = np.where(np.abs(y_true) < eps, eps, np.abs(y_true))\n",
    "    return np.mean(np.abs((y_true - y_pred) / denom)) * 100.0\n",
    "\n",
    "mape_scorer = make_scorer(mape, greater_is_better=False)\n",
    "\n",
    "preprocess_linear = ColumnTransformer([\n",
    "    ('num', Pipeline([\n",
    "        ('imputer', SimpleImputer(strategy='median')),\n",
    "        ('scaler', StandardScaler()),\n",
    "    ]), num_cols),\n",
    "    ('cat', Pipeline([\n",
    "        ('imputer', SimpleImputer(strategy='most_frequent')),\n",
    "        ('onehot', OneHotEncoder(handle_unknown='ignore')),\n",
    "    ]), cat_cols),\n",
    "])\n",
    "\n",
    "preprocess_tree = ColumnTransformer([\n",
    "    ('num', SimpleImputer(strategy='median'), num_cols),\n",
    "    ('cat', Pipeline([\n",
    "        ('imputer', SimpleImputer(strategy='most_frequent')),\n",
    "        ('onehot', OneHotEncoder(handle_unknown='ignore')),\n",
    "    ]), cat_cols),\n",
    "])\n",
    "\n",
    "cv = KFold(n_splits=5, shuffle=True, random_state=42)"
   ]
  },
  {
   "cell_type": "markdown",
   "metadata": {},
   "source": [
    "## 3) Modelos *baseline* (Regresión Lineal, Random Forest, Gradient Boosting)\n",
    "Calculamos **R²** y **MAPE** en CV=5 para cada modelo."
   ]
  },
  {
   "cell_type": "code",
   "execution_count": 6,
   "metadata": {},
   "outputs": [
    {
     "data": {
      "application/vnd.microsoft.datawrangler.viewer.v0+json": {
       "columns": [
        {
         "name": "index",
         "rawType": "int64",
         "type": "integer"
        },
        {
         "name": "model",
         "rawType": "object",
         "type": "string"
        },
        {
         "name": "R2_mean",
         "rawType": "float64",
         "type": "float"
        },
        {
         "name": "R2_std",
         "rawType": "float64",
         "type": "float"
        },
        {
         "name": "MAPE_mean",
         "rawType": "float64",
         "type": "float"
        },
        {
         "name": "MAPE_std",
         "rawType": "float64",
         "type": "float"
        }
       ],
       "ref": "c6008ab9-689a-4a18-b0ae-9416d7dc144e",
       "rows": [
        [
         "1",
         "RandomForestRegressor (baseline)",
         "0.8272558354428051",
         "0.08477715613653741",
         "16.08627908577829",
         "3.486338064770208"
        ],
        [
         "2",
         "GradientBoostingRegressor (baseline)",
         "0.8578872966216133",
         "0.08760238126849793",
         "16.250014955436104",
         "3.3888541668309875"
        ],
        [
         "0",
         "LinearRegression (log-target)",
         "-1.400612090493476",
         "3.336512030468585",
         "27.566382535515412",
         "5.10382384211622"
        ]
       ],
       "shape": {
        "columns": 5,
        "rows": 3
       }
      },
      "text/html": [
       "<div>\n",
       "<style scoped>\n",
       "    .dataframe tbody tr th:only-of-type {\n",
       "        vertical-align: middle;\n",
       "    }\n",
       "\n",
       "    .dataframe tbody tr th {\n",
       "        vertical-align: top;\n",
       "    }\n",
       "\n",
       "    .dataframe thead th {\n",
       "        text-align: right;\n",
       "    }\n",
       "</style>\n",
       "<table border=\"1\" class=\"dataframe\">\n",
       "  <thead>\n",
       "    <tr style=\"text-align: right;\">\n",
       "      <th></th>\n",
       "      <th>model</th>\n",
       "      <th>R2_mean</th>\n",
       "      <th>R2_std</th>\n",
       "      <th>MAPE_mean</th>\n",
       "      <th>MAPE_std</th>\n",
       "    </tr>\n",
       "  </thead>\n",
       "  <tbody>\n",
       "    <tr>\n",
       "      <th>1</th>\n",
       "      <td>RandomForestRegressor (baseline)</td>\n",
       "      <td>0.827256</td>\n",
       "      <td>0.084777</td>\n",
       "      <td>16.086279</td>\n",
       "      <td>3.486338</td>\n",
       "    </tr>\n",
       "    <tr>\n",
       "      <th>2</th>\n",
       "      <td>GradientBoostingRegressor (baseline)</td>\n",
       "      <td>0.857887</td>\n",
       "      <td>0.087602</td>\n",
       "      <td>16.250015</td>\n",
       "      <td>3.388854</td>\n",
       "    </tr>\n",
       "    <tr>\n",
       "      <th>0</th>\n",
       "      <td>LinearRegression (log-target)</td>\n",
       "      <td>-1.400612</td>\n",
       "      <td>3.336512</td>\n",
       "      <td>27.566383</td>\n",
       "      <td>5.103824</td>\n",
       "    </tr>\n",
       "  </tbody>\n",
       "</table>\n",
       "</div>"
      ],
      "text/plain": [
       "                                  model   R2_mean    R2_std  MAPE_mean  \\\n",
       "1      RandomForestRegressor (baseline)  0.827256  0.084777  16.086279   \n",
       "2  GradientBoostingRegressor (baseline)  0.857887  0.087602  16.250015   \n",
       "0         LinearRegression (log-target) -1.400612  3.336512  27.566383   \n",
       "\n",
       "   MAPE_std  \n",
       "1  3.486338  \n",
       "2  3.388854  \n",
       "0  5.103824  "
      ]
     },
     "execution_count": 6,
     "metadata": {},
     "output_type": "execute_result"
    }
   ],
   "source": [
    "results = []\n",
    "\n",
    "# A) Regresión Lineal con log-transform del target\n",
    "lin = Pipeline([\n",
    "    ('pre', preprocess_linear),\n",
    "    ('reg', LinearRegression()),\n",
    "])\n",
    "lin_ttr = TransformedTargetRegressor(regressor=lin, func=np.log1p, inverse_func=np.expm1)\n",
    "scores_lin = cross_validate(lin_ttr, X, y, cv=cv, scoring={'R2': 'r2', 'MAPE': mape_scorer}, n_jobs=-1)\n",
    "results.append({\n",
    "    'model': 'LinearRegression (log-target)',\n",
    "    'R2_mean': np.mean(scores_lin['test_R2']),\n",
    "    'R2_std':  np.std(scores_lin['test_R2']),\n",
    "    'MAPE_mean': -np.mean(scores_lin['test_MAPE']),\n",
    "    'MAPE_std':  np.std(scores_lin['test_MAPE']),\n",
    "})\n",
    "\n",
    "# B) Random Forest baseline\n",
    "rf = Pipeline([\n",
    "    ('pre', preprocess_tree),\n",
    "    ('rf', RandomForestRegressor(n_estimators=300, min_samples_leaf=3, random_state=42, n_jobs=-1)),\n",
    "])\n",
    "scores_rf = cross_validate(rf, X, y, cv=cv, scoring={'R2': 'r2', 'MAPE': mape_scorer}, n_jobs=-1)\n",
    "results.append({\n",
    "    'model': 'RandomForestRegressor (baseline)',\n",
    "    'R2_mean': np.mean(scores_rf['test_R2']),\n",
    "    'R2_std':  np.std(scores_rf['test_R2']),\n",
    "    'MAPE_mean': -np.mean(scores_rf['test_MAPE']),\n",
    "    'MAPE_std':  np.std(scores_rf['test_MAPE']),\n",
    "})\n",
    "\n",
    "# C) Gradient Boosting baseline (XGB si está disponible; si no, sklearn GBR)\n",
    "if HAS_XGB:\n",
    "    gb_est = XGBRegressor(\n",
    "        n_estimators=400, learning_rate=0.05, max_depth=4,\n",
    "        subsample=0.8, colsample_bytree=0.8, reg_lambda=1.0,\n",
    "        random_state=42, n_jobs=-1, tree_method='hist'\n",
    "    )\n",
    "    gb_name = 'XGBRegressor (baseline)'\n",
    "else:\n",
    "    gb_est = GradientBoostingRegressor(\n",
    "        n_estimators=400, learning_rate=0.05, max_depth=3,\n",
    "        subsample=0.9, random_state=42\n",
    "    )\n",
    "    gb_name = 'GradientBoostingRegressor (baseline)'\n",
    "\n",
    "gb = Pipeline([\n",
    "    ('pre', preprocess_tree),\n",
    "    ('gb', gb_est),\n",
    "])\n",
    "scores_gb = cross_validate(gb, X, y, cv=cv, scoring={'R2': 'r2', 'MAPE': mape_scorer}, n_jobs=-1)\n",
    "results.append({\n",
    "    'model': gb_name,\n",
    "    'R2_mean': np.mean(scores_gb['test_R2']),\n",
    "    'R2_std':  np.std(scores_gb['test_R2']),\n",
    "    'MAPE_mean': -np.mean(scores_gb['test_MAPE']),\n",
    "    'MAPE_std':  np.std(scores_gb['test_MAPE']),\n",
    "})\n",
    "\n",
    "df_results_baseline = pd.DataFrame(results).sort_values('MAPE_mean')\n",
    "df_results_baseline"
   ]
  },
  {
   "cell_type": "markdown",
   "metadata": {},
   "source": [
    "## 4) Optimización de Gradient Boosting (*RandomizedSearchCV*)\n",
    "Se optimizan hiperparámetros clave para mejorar MAPE y controlar sobreajuste."
   ]
  },
  {
   "cell_type": "code",
   "execution_count": 7,
   "metadata": {},
   "outputs": [
    {
     "name": "stdout",
     "output_type": "stream",
     "text": [
      "Fitting 5 folds for each of 40 candidates, totalling 200 fits\n"
     ]
    },
    {
     "ename": "KeyboardInterrupt",
     "evalue": "",
     "output_type": "error",
     "traceback": [
      "\u001b[31m---------------------------------------------------------------------------\u001b[39m",
      "\u001b[31mKeyboardInterrupt\u001b[39m                         Traceback (most recent call last)",
      "\u001b[36mCell\u001b[39m\u001b[36m \u001b[39m\u001b[32mIn[7]\u001b[39m\u001b[32m, line 35\u001b[39m\n\u001b[32m     19\u001b[39m     param_dist = {\n\u001b[32m     20\u001b[39m         \u001b[33m'\u001b[39m\u001b[33mgb__n_estimators\u001b[39m\u001b[33m'\u001b[39m: [\u001b[32m200\u001b[39m, \u001b[32m400\u001b[39m, \u001b[32m600\u001b[39m, \u001b[32m800\u001b[39m, \u001b[32m1000\u001b[39m],\n\u001b[32m     21\u001b[39m         \u001b[33m'\u001b[39m\u001b[33mgb__max_depth\u001b[39m\u001b[33m'\u001b[39m: [\u001b[32m2\u001b[39m, \u001b[32m3\u001b[39m, \u001b[32m4\u001b[39m, \u001b[32m5\u001b[39m],\n\u001b[32m   (...)\u001b[39m\u001b[32m     25\u001b[39m         \u001b[33m'\u001b[39m\u001b[33mgb__min_samples_leaf\u001b[39m\u001b[33m'\u001b[39m: [\u001b[32m1\u001b[39m, \u001b[32m2\u001b[39m, \u001b[32m3\u001b[39m, \u001b[32m5\u001b[39m, \u001b[32m10\u001b[39m],\n\u001b[32m     26\u001b[39m     }\n\u001b[32m     28\u001b[39m rand_search = RandomizedSearchCV(\n\u001b[32m     29\u001b[39m     estimator=gb_search,\n\u001b[32m     30\u001b[39m     param_distributions=param_dist,\n\u001b[32m   (...)\u001b[39m\u001b[32m     33\u001b[39m     refit=\u001b[33m'\u001b[39m\u001b[33mMAPE\u001b[39m\u001b[33m'\u001b[39m, random_state=\u001b[32m42\u001b[39m, n_jobs=-\u001b[32m1\u001b[39m, verbose=\u001b[32m1\u001b[39m\n\u001b[32m     34\u001b[39m )\n\u001b[32m---> \u001b[39m\u001b[32m35\u001b[39m \u001b[43mrand_search\u001b[49m\u001b[43m.\u001b[49m\u001b[43mfit\u001b[49m\u001b[43m(\u001b[49m\u001b[43mX\u001b[49m\u001b[43m,\u001b[49m\u001b[43m \u001b[49m\u001b[43my\u001b[49m\u001b[43m)\u001b[49m\n\u001b[32m     36\u001b[39m best_model = rand_search.best_estimator_\n\u001b[32m     37\u001b[39m best_mape = -rand_search.best_score_\n",
      "\u001b[36mFile \u001b[39m\u001b[32m~/Documentos/ParcialDeFi4/.venv/lib64/python3.12/site-packages/sklearn/base.py:1365\u001b[39m, in \u001b[36m_fit_context.<locals>.decorator.<locals>.wrapper\u001b[39m\u001b[34m(estimator, *args, **kwargs)\u001b[39m\n\u001b[32m   1358\u001b[39m     estimator._validate_params()\n\u001b[32m   1360\u001b[39m \u001b[38;5;28;01mwith\u001b[39;00m config_context(\n\u001b[32m   1361\u001b[39m     skip_parameter_validation=(\n\u001b[32m   1362\u001b[39m         prefer_skip_nested_validation \u001b[38;5;129;01mor\u001b[39;00m global_skip_validation\n\u001b[32m   1363\u001b[39m     )\n\u001b[32m   1364\u001b[39m ):\n\u001b[32m-> \u001b[39m\u001b[32m1365\u001b[39m     \u001b[38;5;28;01mreturn\u001b[39;00m \u001b[43mfit_method\u001b[49m\u001b[43m(\u001b[49m\u001b[43mestimator\u001b[49m\u001b[43m,\u001b[49m\u001b[43m \u001b[49m\u001b[43m*\u001b[49m\u001b[43margs\u001b[49m\u001b[43m,\u001b[49m\u001b[43m \u001b[49m\u001b[43m*\u001b[49m\u001b[43m*\u001b[49m\u001b[43mkwargs\u001b[49m\u001b[43m)\u001b[49m\n",
      "\u001b[36mFile \u001b[39m\u001b[32m~/Documentos/ParcialDeFi4/.venv/lib64/python3.12/site-packages/sklearn/model_selection/_search.py:1051\u001b[39m, in \u001b[36mBaseSearchCV.fit\u001b[39m\u001b[34m(self, X, y, **params)\u001b[39m\n\u001b[32m   1045\u001b[39m     results = \u001b[38;5;28mself\u001b[39m._format_results(\n\u001b[32m   1046\u001b[39m         all_candidate_params, n_splits, all_out, all_more_results\n\u001b[32m   1047\u001b[39m     )\n\u001b[32m   1049\u001b[39m     \u001b[38;5;28;01mreturn\u001b[39;00m results\n\u001b[32m-> \u001b[39m\u001b[32m1051\u001b[39m \u001b[38;5;28;43mself\u001b[39;49m\u001b[43m.\u001b[49m\u001b[43m_run_search\u001b[49m\u001b[43m(\u001b[49m\u001b[43mevaluate_candidates\u001b[49m\u001b[43m)\u001b[49m\n\u001b[32m   1053\u001b[39m \u001b[38;5;66;03m# multimetric is determined here because in the case of a callable\u001b[39;00m\n\u001b[32m   1054\u001b[39m \u001b[38;5;66;03m# self.scoring the return type is only known after calling\u001b[39;00m\n\u001b[32m   1055\u001b[39m first_test_score = all_out[\u001b[32m0\u001b[39m][\u001b[33m\"\u001b[39m\u001b[33mtest_scores\u001b[39m\u001b[33m\"\u001b[39m]\n",
      "\u001b[36mFile \u001b[39m\u001b[32m~/Documentos/ParcialDeFi4/.venv/lib64/python3.12/site-packages/sklearn/model_selection/_search.py:1992\u001b[39m, in \u001b[36mRandomizedSearchCV._run_search\u001b[39m\u001b[34m(self, evaluate_candidates)\u001b[39m\n\u001b[32m   1990\u001b[39m \u001b[38;5;28;01mdef\u001b[39;00m\u001b[38;5;250m \u001b[39m\u001b[34m_run_search\u001b[39m(\u001b[38;5;28mself\u001b[39m, evaluate_candidates):\n\u001b[32m   1991\u001b[39m \u001b[38;5;250m    \u001b[39m\u001b[33;03m\"\"\"Search n_iter candidates from param_distributions\"\"\"\u001b[39;00m\n\u001b[32m-> \u001b[39m\u001b[32m1992\u001b[39m     \u001b[43mevaluate_candidates\u001b[49m\u001b[43m(\u001b[49m\n\u001b[32m   1993\u001b[39m \u001b[43m        \u001b[49m\u001b[43mParameterSampler\u001b[49m\u001b[43m(\u001b[49m\n\u001b[32m   1994\u001b[39m \u001b[43m            \u001b[49m\u001b[38;5;28;43mself\u001b[39;49m\u001b[43m.\u001b[49m\u001b[43mparam_distributions\u001b[49m\u001b[43m,\u001b[49m\u001b[43m \u001b[49m\u001b[38;5;28;43mself\u001b[39;49m\u001b[43m.\u001b[49m\u001b[43mn_iter\u001b[49m\u001b[43m,\u001b[49m\u001b[43m \u001b[49m\u001b[43mrandom_state\u001b[49m\u001b[43m=\u001b[49m\u001b[38;5;28;43mself\u001b[39;49m\u001b[43m.\u001b[49m\u001b[43mrandom_state\u001b[49m\n\u001b[32m   1995\u001b[39m \u001b[43m        \u001b[49m\u001b[43m)\u001b[49m\n\u001b[32m   1996\u001b[39m \u001b[43m    \u001b[49m\u001b[43m)\u001b[49m\n",
      "\u001b[36mFile \u001b[39m\u001b[32m~/Documentos/ParcialDeFi4/.venv/lib64/python3.12/site-packages/sklearn/model_selection/_search.py:997\u001b[39m, in \u001b[36mBaseSearchCV.fit.<locals>.evaluate_candidates\u001b[39m\u001b[34m(candidate_params, cv, more_results)\u001b[39m\n\u001b[32m    989\u001b[39m \u001b[38;5;28;01mif\u001b[39;00m \u001b[38;5;28mself\u001b[39m.verbose > \u001b[32m0\u001b[39m:\n\u001b[32m    990\u001b[39m     \u001b[38;5;28mprint\u001b[39m(\n\u001b[32m    991\u001b[39m         \u001b[33m\"\u001b[39m\u001b[33mFitting \u001b[39m\u001b[38;5;132;01m{0}\u001b[39;00m\u001b[33m folds for each of \u001b[39m\u001b[38;5;132;01m{1}\u001b[39;00m\u001b[33m candidates,\u001b[39m\u001b[33m\"\u001b[39m\n\u001b[32m    992\u001b[39m         \u001b[33m\"\u001b[39m\u001b[33m totalling \u001b[39m\u001b[38;5;132;01m{2}\u001b[39;00m\u001b[33m fits\u001b[39m\u001b[33m\"\u001b[39m.format(\n\u001b[32m    993\u001b[39m             n_splits, n_candidates, n_candidates * n_splits\n\u001b[32m    994\u001b[39m         )\n\u001b[32m    995\u001b[39m     )\n\u001b[32m--> \u001b[39m\u001b[32m997\u001b[39m out = \u001b[43mparallel\u001b[49m\u001b[43m(\u001b[49m\n\u001b[32m    998\u001b[39m \u001b[43m    \u001b[49m\u001b[43mdelayed\u001b[49m\u001b[43m(\u001b[49m\u001b[43m_fit_and_score\u001b[49m\u001b[43m)\u001b[49m\u001b[43m(\u001b[49m\n\u001b[32m    999\u001b[39m \u001b[43m        \u001b[49m\u001b[43mclone\u001b[49m\u001b[43m(\u001b[49m\u001b[43mbase_estimator\u001b[49m\u001b[43m)\u001b[49m\u001b[43m,\u001b[49m\n\u001b[32m   1000\u001b[39m \u001b[43m        \u001b[49m\u001b[43mX\u001b[49m\u001b[43m,\u001b[49m\n\u001b[32m   1001\u001b[39m \u001b[43m        \u001b[49m\u001b[43my\u001b[49m\u001b[43m,\u001b[49m\n\u001b[32m   1002\u001b[39m \u001b[43m        \u001b[49m\u001b[43mtrain\u001b[49m\u001b[43m=\u001b[49m\u001b[43mtrain\u001b[49m\u001b[43m,\u001b[49m\n\u001b[32m   1003\u001b[39m \u001b[43m        \u001b[49m\u001b[43mtest\u001b[49m\u001b[43m=\u001b[49m\u001b[43mtest\u001b[49m\u001b[43m,\u001b[49m\n\u001b[32m   1004\u001b[39m \u001b[43m        \u001b[49m\u001b[43mparameters\u001b[49m\u001b[43m=\u001b[49m\u001b[43mparameters\u001b[49m\u001b[43m,\u001b[49m\n\u001b[32m   1005\u001b[39m \u001b[43m        \u001b[49m\u001b[43msplit_progress\u001b[49m\u001b[43m=\u001b[49m\u001b[43m(\u001b[49m\u001b[43msplit_idx\u001b[49m\u001b[43m,\u001b[49m\u001b[43m \u001b[49m\u001b[43mn_splits\u001b[49m\u001b[43m)\u001b[49m\u001b[43m,\u001b[49m\n\u001b[32m   1006\u001b[39m \u001b[43m        \u001b[49m\u001b[43mcandidate_progress\u001b[49m\u001b[43m=\u001b[49m\u001b[43m(\u001b[49m\u001b[43mcand_idx\u001b[49m\u001b[43m,\u001b[49m\u001b[43m \u001b[49m\u001b[43mn_candidates\u001b[49m\u001b[43m)\u001b[49m\u001b[43m,\u001b[49m\n\u001b[32m   1007\u001b[39m \u001b[43m        \u001b[49m\u001b[43m*\u001b[49m\u001b[43m*\u001b[49m\u001b[43mfit_and_score_kwargs\u001b[49m\u001b[43m,\u001b[49m\n\u001b[32m   1008\u001b[39m \u001b[43m    \u001b[49m\u001b[43m)\u001b[49m\n\u001b[32m   1009\u001b[39m \u001b[43m    \u001b[49m\u001b[38;5;28;43;01mfor\u001b[39;49;00m\u001b[43m \u001b[49m\u001b[43m(\u001b[49m\u001b[43mcand_idx\u001b[49m\u001b[43m,\u001b[49m\u001b[43m \u001b[49m\u001b[43mparameters\u001b[49m\u001b[43m)\u001b[49m\u001b[43m,\u001b[49m\u001b[43m \u001b[49m\u001b[43m(\u001b[49m\u001b[43msplit_idx\u001b[49m\u001b[43m,\u001b[49m\u001b[43m \u001b[49m\u001b[43m(\u001b[49m\u001b[43mtrain\u001b[49m\u001b[43m,\u001b[49m\u001b[43m \u001b[49m\u001b[43mtest\u001b[49m\u001b[43m)\u001b[49m\u001b[43m)\u001b[49m\u001b[43m \u001b[49m\u001b[38;5;129;43;01min\u001b[39;49;00m\u001b[43m \u001b[49m\u001b[43mproduct\u001b[49m\u001b[43m(\u001b[49m\n\u001b[32m   1010\u001b[39m \u001b[43m        \u001b[49m\u001b[38;5;28;43menumerate\u001b[39;49m\u001b[43m(\u001b[49m\u001b[43mcandidate_params\u001b[49m\u001b[43m)\u001b[49m\u001b[43m,\u001b[49m\n\u001b[32m   1011\u001b[39m \u001b[43m        \u001b[49m\u001b[38;5;28;43menumerate\u001b[39;49m\u001b[43m(\u001b[49m\u001b[43mcv\u001b[49m\u001b[43m.\u001b[49m\u001b[43msplit\u001b[49m\u001b[43m(\u001b[49m\u001b[43mX\u001b[49m\u001b[43m,\u001b[49m\u001b[43m \u001b[49m\u001b[43my\u001b[49m\u001b[43m,\u001b[49m\u001b[43m \u001b[49m\u001b[43m*\u001b[49m\u001b[43m*\u001b[49m\u001b[43mrouted_params\u001b[49m\u001b[43m.\u001b[49m\u001b[43msplitter\u001b[49m\u001b[43m.\u001b[49m\u001b[43msplit\u001b[49m\u001b[43m)\u001b[49m\u001b[43m)\u001b[49m\u001b[43m,\u001b[49m\n\u001b[32m   1012\u001b[39m \u001b[43m    \u001b[49m\u001b[43m)\u001b[49m\n\u001b[32m   1013\u001b[39m \u001b[43m\u001b[49m\u001b[43m)\u001b[49m\n\u001b[32m   1015\u001b[39m \u001b[38;5;28;01mif\u001b[39;00m \u001b[38;5;28mlen\u001b[39m(out) < \u001b[32m1\u001b[39m:\n\u001b[32m   1016\u001b[39m     \u001b[38;5;28;01mraise\u001b[39;00m \u001b[38;5;167;01mValueError\u001b[39;00m(\n\u001b[32m   1017\u001b[39m         \u001b[33m\"\u001b[39m\u001b[33mNo fits were performed. \u001b[39m\u001b[33m\"\u001b[39m\n\u001b[32m   1018\u001b[39m         \u001b[33m\"\u001b[39m\u001b[33mWas the CV iterator empty? \u001b[39m\u001b[33m\"\u001b[39m\n\u001b[32m   1019\u001b[39m         \u001b[33m\"\u001b[39m\u001b[33mWere there no candidates?\u001b[39m\u001b[33m\"\u001b[39m\n\u001b[32m   1020\u001b[39m     )\n",
      "\u001b[36mFile \u001b[39m\u001b[32m~/Documentos/ParcialDeFi4/.venv/lib64/python3.12/site-packages/sklearn/utils/parallel.py:82\u001b[39m, in \u001b[36mParallel.__call__\u001b[39m\u001b[34m(self, iterable)\u001b[39m\n\u001b[32m     73\u001b[39m warning_filters = warnings.filters\n\u001b[32m     74\u001b[39m iterable_with_config_and_warning_filters = (\n\u001b[32m     75\u001b[39m     (\n\u001b[32m     76\u001b[39m         _with_config_and_warning_filters(delayed_func, config, warning_filters),\n\u001b[32m   (...)\u001b[39m\u001b[32m     80\u001b[39m     \u001b[38;5;28;01mfor\u001b[39;00m delayed_func, args, kwargs \u001b[38;5;129;01min\u001b[39;00m iterable\n\u001b[32m     81\u001b[39m )\n\u001b[32m---> \u001b[39m\u001b[32m82\u001b[39m \u001b[38;5;28;01mreturn\u001b[39;00m \u001b[38;5;28;43msuper\u001b[39;49m\u001b[43m(\u001b[49m\u001b[43m)\u001b[49m\u001b[43m.\u001b[49m\u001b[34;43m__call__\u001b[39;49m\u001b[43m(\u001b[49m\u001b[43miterable_with_config_and_warning_filters\u001b[49m\u001b[43m)\u001b[49m\n",
      "\u001b[36mFile \u001b[39m\u001b[32m~/Documentos/ParcialDeFi4/.venv/lib64/python3.12/site-packages/joblib/parallel.py:2072\u001b[39m, in \u001b[36mParallel.__call__\u001b[39m\u001b[34m(self, iterable)\u001b[39m\n\u001b[32m   2066\u001b[39m \u001b[38;5;66;03m# The first item from the output is blank, but it makes the interpreter\u001b[39;00m\n\u001b[32m   2067\u001b[39m \u001b[38;5;66;03m# progress until it enters the Try/Except block of the generator and\u001b[39;00m\n\u001b[32m   2068\u001b[39m \u001b[38;5;66;03m# reaches the first `yield` statement. This starts the asynchronous\u001b[39;00m\n\u001b[32m   2069\u001b[39m \u001b[38;5;66;03m# dispatch of the tasks to the workers.\u001b[39;00m\n\u001b[32m   2070\u001b[39m \u001b[38;5;28mnext\u001b[39m(output)\n\u001b[32m-> \u001b[39m\u001b[32m2072\u001b[39m \u001b[38;5;28;01mreturn\u001b[39;00m output \u001b[38;5;28;01mif\u001b[39;00m \u001b[38;5;28mself\u001b[39m.return_generator \u001b[38;5;28;01melse\u001b[39;00m \u001b[38;5;28;43mlist\u001b[39;49m\u001b[43m(\u001b[49m\u001b[43moutput\u001b[49m\u001b[43m)\u001b[49m\n",
      "\u001b[36mFile \u001b[39m\u001b[32m~/Documentos/ParcialDeFi4/.venv/lib64/python3.12/site-packages/joblib/parallel.py:1682\u001b[39m, in \u001b[36mParallel._get_outputs\u001b[39m\u001b[34m(self, iterator, pre_dispatch)\u001b[39m\n\u001b[32m   1679\u001b[39m     \u001b[38;5;28;01myield\u001b[39;00m\n\u001b[32m   1681\u001b[39m     \u001b[38;5;28;01mwith\u001b[39;00m \u001b[38;5;28mself\u001b[39m._backend.retrieval_context():\n\u001b[32m-> \u001b[39m\u001b[32m1682\u001b[39m         \u001b[38;5;28;01myield from\u001b[39;00m \u001b[38;5;28mself\u001b[39m._retrieve()\n\u001b[32m   1684\u001b[39m \u001b[38;5;28;01mexcept\u001b[39;00m \u001b[38;5;167;01mGeneratorExit\u001b[39;00m:\n\u001b[32m   1685\u001b[39m     \u001b[38;5;66;03m# The generator has been garbage collected before being fully\u001b[39;00m\n\u001b[32m   1686\u001b[39m     \u001b[38;5;66;03m# consumed. This aborts the remaining tasks if possible and warn\u001b[39;00m\n\u001b[32m   1687\u001b[39m     \u001b[38;5;66;03m# the user if necessary.\u001b[39;00m\n\u001b[32m   1688\u001b[39m     \u001b[38;5;28mself\u001b[39m._exception = \u001b[38;5;28;01mTrue\u001b[39;00m\n",
      "\u001b[36mFile \u001b[39m\u001b[32m~/Documentos/ParcialDeFi4/.venv/lib64/python3.12/site-packages/joblib/parallel.py:1800\u001b[39m, in \u001b[36mParallel._retrieve\u001b[39m\u001b[34m(self)\u001b[39m\n\u001b[32m   1789\u001b[39m \u001b[38;5;28;01mif\u001b[39;00m \u001b[38;5;28mself\u001b[39m.return_ordered:\n\u001b[32m   1790\u001b[39m     \u001b[38;5;66;03m# Case ordered: wait for completion (or error) of the next job\u001b[39;00m\n\u001b[32m   1791\u001b[39m     \u001b[38;5;66;03m# that have been dispatched and not retrieved yet. If no job\u001b[39;00m\n\u001b[32m   (...)\u001b[39m\u001b[32m   1795\u001b[39m     \u001b[38;5;66;03m# control only have to be done on the amount of time the next\u001b[39;00m\n\u001b[32m   1796\u001b[39m     \u001b[38;5;66;03m# dispatched job is pending.\u001b[39;00m\n\u001b[32m   1797\u001b[39m     \u001b[38;5;28;01mif\u001b[39;00m (nb_jobs == \u001b[32m0\u001b[39m) \u001b[38;5;129;01mor\u001b[39;00m (\n\u001b[32m   1798\u001b[39m         \u001b[38;5;28mself\u001b[39m._jobs[\u001b[32m0\u001b[39m].get_status(timeout=\u001b[38;5;28mself\u001b[39m.timeout) == TASK_PENDING\n\u001b[32m   1799\u001b[39m     ):\n\u001b[32m-> \u001b[39m\u001b[32m1800\u001b[39m         \u001b[43mtime\u001b[49m\u001b[43m.\u001b[49m\u001b[43msleep\u001b[49m\u001b[43m(\u001b[49m\u001b[32;43m0.01\u001b[39;49m\u001b[43m)\u001b[49m\n\u001b[32m   1801\u001b[39m         \u001b[38;5;28;01mcontinue\u001b[39;00m\n\u001b[32m   1803\u001b[39m \u001b[38;5;28;01melif\u001b[39;00m nb_jobs == \u001b[32m0\u001b[39m:\n\u001b[32m   1804\u001b[39m     \u001b[38;5;66;03m# Case unordered: jobs are added to the list of jobs to\u001b[39;00m\n\u001b[32m   1805\u001b[39m     \u001b[38;5;66;03m# retrieve `self._jobs` only once completed or in error, which\u001b[39;00m\n\u001b[32m   (...)\u001b[39m\u001b[32m   1811\u001b[39m     \u001b[38;5;66;03m# timeouts before any other dispatched job has completed and\u001b[39;00m\n\u001b[32m   1812\u001b[39m     \u001b[38;5;66;03m# been added to `self._jobs` to be retrieved.\u001b[39;00m\n",
      "\u001b[31mKeyboardInterrupt\u001b[39m: "
     ]
    }
   ],
   "source": [
    "if HAS_XGB:\n",
    "    gb_search = Pipeline([\n",
    "        ('pre', preprocess_tree),\n",
    "        ('gb', XGBRegressor(random_state=42, n_jobs=-1, tree_method='hist')),\n",
    "    ])\n",
    "    param_dist = {\n",
    "        'gb__n_estimators': [200, 400, 600, 800, 1000],\n",
    "        'gb__max_depth': [2, 3, 4, 5, 6],\n",
    "        'gb__learning_rate': np.linspace(0.01, 0.2, 10),\n",
    "        'gb__subsample': [0.6, 0.7, 0.8, 0.9, 1.0],\n",
    "        'gb__colsample_bytree': [0.6, 0.7, 0.8, 0.9, 1.0],\n",
    "        'gb__reg_lambda': [0.0, 0.1, 0.5, 1.0, 5.0, 10.0],\n",
    "    }\n",
    "else:\n",
    "    gb_search = Pipeline([\n",
    "        ('pre', preprocess_tree),\n",
    "        ('gb', GradientBoostingRegressor(random_state=42)),\n",
    "    ])\n",
    "    param_dist = {\n",
    "        'gb__n_estimators': [200, 400, 600, 800, 1000],\n",
    "        'gb__max_depth': [2, 3, 4, 5],\n",
    "        'gb__learning_rate': np.linspace(0.01, 0.2, 10),\n",
    "        'gb__subsample': [0.6, 0.7, 0.8, 0.9, 1.0],\n",
    "        'gb__max_features': [None, 'sqrt', 0.6, 0.8],\n",
    "        'gb__min_samples_leaf': [1, 2, 3, 5, 10],\n",
    "    }\n",
    "\n",
    "rand_search = RandomizedSearchCV(\n",
    "    estimator=gb_search,\n",
    "    param_distributions=param_dist,\n",
    "    n_iter=40, cv=cv,\n",
    "    scoring={'R2': 'r2', 'MAPE': mape_scorer},\n",
    "    refit='MAPE', random_state=42, n_jobs=-1, verbose=1\n",
    ")\n",
    "rand_search.fit(X, y)\n",
    "best_model = rand_search.best_estimator_\n",
    "best_mape = -rand_search.best_score_\n",
    "best_params = rand_search.best_params_\n",
    "\n",
    "print('Mejor MAPE (CV):', round(best_mape, 3))\n",
    "print('Mejores parámetros:', best_params)"
   ]
  },
  {
   "cell_type": "markdown",
   "metadata": {},
   "source": [
    "## 5) Importancia de variables del mejor modelo\n",
    "Se extraen importancias del modelo (árboles) o coeficientes (si fuera lineal)."
   ]
  },
  {
   "cell_type": "code",
   "execution_count": null,
   "metadata": {},
   "outputs": [],
   "source": [
    "# Nombres de columnas transformadas (num + dummies de cat)\n",
    "pre = best_model.named_steps['pre']\n",
    "try:\n",
    "    num_out = np.array([c for c in num_cols])\n",
    "    ohe = pre.named_transformers_['cat'].named_steps['onehot']\n",
    "    cat_out = ohe.get_feature_names_out(cat_cols)\n",
    "    feature_names = np.concatenate([num_out, cat_out])\n",
    "except Exception:\n",
    "    feature_names = np.array(num_cols + cat_cols)\n",
    "\n",
    "importances = None\n",
    "try:\n",
    "    importances = best_model.named_steps['gb'].feature_importances_\n",
    "except Exception:\n",
    "    try:\n",
    "        importances = np.abs(best_model.named_steps['reg'].coef_)\n",
    "    except Exception:\n",
    "        importances = np.zeros(len(feature_names))\n",
    "\n",
    "feat_imp = pd.DataFrame({'feature': feature_names[:len(importances)], 'importance': importances})\\\n",
    "            .sort_values('importance', ascending=False).reset_index(drop=True)\n",
    "feat_imp.head(25)"
   ]
  },
  {
   "cell_type": "markdown",
   "metadata": {},
   "source": [
    "## 6) Predicciones para las 10 nuevas tiendas\n",
    "Se aplica el pipeline completo `best_model` sobre `df_new` para obtener `ventas_m24_pred`."
   ]
  },
  {
   "cell_type": "code",
   "execution_count": null,
   "metadata": {},
   "outputs": [],
   "source": [
    "preds = best_model.predict(df_new)\n",
    "df_preds = df_new.copy()\n",
    "df_preds['ventas_m24_pred'] = preds\n",
    "df_preds.head(10)"
   ]
  },
  {
   "cell_type": "markdown",
   "metadata": {},
   "source": [
    "## 7) Guardado de resultados para el entregable\n",
    "Se exporta:\n",
    "- `resultados_baseline_punto1.csv`\n",
    "- `feature_importances_punto1.csv`\n",
    "- `predicciones_punto1.csv` (10 tiendas)"
   ]
  },
  {
   "cell_type": "code",
   "execution_count": null,
   "metadata": {},
   "outputs": [],
   "source": [
    "out_baseline = '/mnt/data/resultados_baseline_punto1.csv'\n",
    "out_featimp = '/mnt/data/feature_importances_punto1.csv'\n",
    "out_preds   = '/mnt/data/predicciones_punto1.csv'\n",
    "\n",
    "df_results_baseline.to_csv(out_baseline, index=False)\n",
    "feat_imp.to_csv(out_featimp, index=False)\n",
    "df_preds.to_csv(out_preds, index=False)\n",
    "\n",
    "print('Archivos guardados:')\n",
    "print(' -', out_baseline)\n",
    "print(' -', out_featimp)\n",
    "print(' -', out_preds)"
   ]
  },
  {
   "cell_type": "markdown",
   "metadata": {},
   "source": [
    "### Notas finales\n",
    "- **Selección de modelo**: elegir el que minimice **MAPE** (promedio CV). Reportar también **R²**.\n",
    "- **Interpretabilidad**: acompañar el modelo final con ranking de importancia y una breve explicación de los *drivers* (tráfico, competencia, población, etc.).\n",
    "- **Entrega (Google Sheets)**: pegar `predicciones_punto1.csv` y el top de `feature_importances_punto1.csv` en la hoja \"Punto 1\", junto con un resumen del modelo y métricas."
   ]
  }
 ],
 "metadata": {
  "kernelspec": {
   "display_name": ".venv",
   "language": "python",
   "name": "python3"
  },
  "language_info": {
   "codemirror_mode": {
    "name": "ipython",
    "version": 3
   },
   "file_extension": ".py",
   "mimetype": "text/x-python",
   "name": "python",
   "nbconvert_exporter": "python",
   "pygments_lexer": "ipython3",
   "version": "3.12.10"
  }
 },
 "nbformat": 4,
 "nbformat_minor": 5
}
